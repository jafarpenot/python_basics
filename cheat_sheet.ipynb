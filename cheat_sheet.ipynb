{
  "nbformat": 4,
  "nbformat_minor": 0,
  "metadata": {
    "colab": {
      "name": "Untitled1.ipynb",
      "provenance": [],
      "authorship_tag": "ABX9TyNmPdzVPiKbyMlspYXclQtt",
      "include_colab_link": true
    },
    "kernelspec": {
      "name": "python3",
      "display_name": "Python 3"
    },
    "language_info": {
      "name": "python"
    }
  },
  "cells": [
    {
      "cell_type": "markdown",
      "metadata": {
        "id": "view-in-github",
        "colab_type": "text"
      },
      "source": [
        "<a href=\"https://colab.research.google.com/github/jafarpenot/python_basics/blob/main/cheat_sheet.ipynb\" target=\"_parent\"><img src=\"https://colab.research.google.com/assets/colab-badge.svg\" alt=\"Open In Colab\"/></a>"
      ]
    },
    {
      "cell_type": "markdown",
      "source": [
        "## **CREATE / ACCESS / SLICE LISTS**"
      ],
      "metadata": {
        "id": "PxTaLtTGqhn5"
      }
    },
    {
      "cell_type": "code",
      "execution_count": null,
      "metadata": {
        "id": "TvmAS9p2aZWz"
      },
      "outputs": [],
      "source": [
        "# LISTS\n",
        "# lists can contain different values\n",
        "courses = [1, 2, 3, 4, 'history']\n",
        "\n",
        "print(courses[0])\n",
        "print(courses[1:4]) # 1 is inclusive but 4 is not"
      ]
    },
    {
      "cell_type": "code",
      "source": [
        "# slice is an object to slice lists, tuples and more\n",
        "my_slice = slice(1,3,1)\n",
        "my_slice2 = slice(1,3,2)\n",
        "\n",
        "print(my_slice)\n",
        "print(courses[my_slice])\n",
        "print(courses[my_slice2])"
      ],
      "metadata": {
        "id": "x2bKeAwKn7X0"
      },
      "execution_count": null,
      "outputs": []
    },
    {
      "cell_type": "markdown",
      "source": [
        "## **APPEND  /  EXTEND  /  INSERT / REMOVE  / POP / DEL**"
      ],
      "metadata": {
        "id": "mVvx5t5nqxmW"
      }
    },
    {
      "cell_type": "code",
      "source": [
        "# APPEND  /  EXTEND  /  INSERT\n",
        "courses = [1, 2, 3, 4, 'history']\n",
        "\n",
        "courses.append('math')\n",
        "courses.extend(['geo', 'sport'])\n",
        "courses.insert(2, 'art')\n",
        "\n",
        "print(courses)\n",
        "\n",
        "# REMOVE  / POP / DEL\n",
        "\n",
        "courses.remove('art')\n",
        "last = courses.pop()\n",
        "penultimate = courses.pop(-1)\n",
        "del courses[-2:]\n",
        "\n",
        "print('last ', last)\n",
        "print('penultimate ', penultimate)\n",
        "print(courses)"
      ],
      "metadata": {
        "id": "bS-w8nO3i8oS"
      },
      "execution_count": null,
      "outputs": []
    },
    {
      "cell_type": "markdown",
      "source": [
        "## **SORT / REVERSE  -  INDEX ACCESS**"
      ],
      "metadata": {
        "id": "b8iWtF0VxK0C"
      }
    },
    {
      "cell_type": "code",
      "source": [
        "# SORTED / REVERSE \n",
        "numbers = [3, 2, 1, 4, 5, 6]\n",
        "print('numbers', numbers)\n",
        "\n",
        "numbers.reverse()\n",
        "print('reverse', numbers)\n",
        "\n",
        "numbers.sort()\n",
        "print('sort', numbers)\n",
        "\n",
        "numbers.sort(reverse=True)\n",
        "print('sort reverse', numbers)\n",
        "\n",
        "numbers = [3, 2, 1, 4, 5, 6]\n",
        "my_sorted_numbers = sorted(numbers)\n",
        "print('numbers', numbers)\n",
        "print('sorted numbers', my_sorted_numbers)"
      ],
      "metadata": {
        "id": "y1U-8nPTjaou",
        "outputId": "799b2b15-15b3-4c14-dcce-a119444fe24d",
        "colab": {
          "base_uri": "https://localhost:8080/"
        }
      },
      "execution_count": 36,
      "outputs": [
        {
          "output_type": "stream",
          "name": "stdout",
          "text": [
            "numbers [3, 2, 1, 4, 5, 6]\n",
            "reverse [6, 5, 4, 1, 2, 3]\n",
            "sort [1, 2, 3, 4, 5, 6]\n",
            "sort reverse [6, 5, 4, 3, 2, 1]\n",
            "numbers [3, 2, 1, 4, 5, 6]\n",
            "sorted numbers [1, 2, 3, 4, 5, 6]\n"
          ]
        }
      ]
    },
    {
      "cell_type": "code",
      "source": [
        "# ACCESS INDEX OF VALUE    /   VALUE IN LIST ? TRUE FALSE\n",
        "numbers = [3, 2, 1, 4, 5, 6]\n",
        "\n",
        "print(numbers.index(2))\n",
        "\n",
        "print(3 in numbers)"
      ],
      "metadata": {
        "id": "SfzUWoKJmc1s",
        "outputId": "ca3bfc38-50bb-4412-f73d-dce2a9b21e45",
        "colab": {
          "base_uri": "https://localhost:8080/"
        }
      },
      "execution_count": 39,
      "outputs": [
        {
          "output_type": "stream",
          "name": "stdout",
          "text": [
            "1\n",
            "True\n"
          ]
        }
      ]
    },
    {
      "cell_type": "code",
      "source": [
        ""
      ],
      "metadata": {
        "id": "dO87j2COyUiO"
      },
      "execution_count": null,
      "outputs": []
    },
    {
      "cell_type": "markdown",
      "source": [
        "## **PRINT LIST / ENUMERATE  -  DIFFERENCE**"
      ],
      "metadata": {
        "id": "34unojWwyVUX"
      }
    },
    {
      "cell_type": "code",
      "source": [
        "courses = ['math', 'geo', 'art', 'hhh', 'hhh']\n",
        "\n",
        "print(courses)\n",
        "\n",
        "for course in courses:\n",
        "  print(course)\n",
        "\n",
        "for index, course in enumerate(courses):\n",
        "  print(index, ' ', course)"
      ],
      "metadata": {
        "id": "49UAx5qmqqkE",
        "outputId": "b904ba20-e097-45a3-e54d-19022718c725",
        "colab": {
          "base_uri": "https://localhost:8080/"
        }
      },
      "execution_count": 44,
      "outputs": [
        {
          "output_type": "stream",
          "name": "stdout",
          "text": [
            "['math', 'geo', 'art', 'hhh', 'hhh']\n",
            "math\n",
            "geo\n",
            "art\n",
            "hhh\n",
            "hhh\n",
            "0   math\n",
            "1   geo\n",
            "2   art\n",
            "3   hhh\n",
            "4   hhh\n"
          ]
        }
      ]
    },
    {
      "cell_type": "markdown",
      "source": [
        "## **EMPTY LIST TUPLE AND SET**"
      ],
      "metadata": {
        "id": "WGyFCo5awaDn"
      }
    },
    {
      "cell_type": "markdown",
      "source": [
        ""
      ],
      "metadata": {
        "id": "a3JTxHUBwZ6x"
      }
    },
    {
      "cell_type": "code",
      "source": [
        "empty_list = []\n",
        "empty_list2 = list()\n",
        "\n",
        "empty_tuple = ()\n",
        "empty_tuple2 = tuple()\n",
        "\n",
        "empty_set = set()\n",
        "\n",
        "empty_dict = {}"
      ],
      "metadata": {
        "id": "pRd8ybBk3sQa"
      },
      "execution_count": null,
      "outputs": []
    }
  ]
}