{
  "nbformat": 4,
  "nbformat_minor": 0,
  "metadata": {
    "colab": {
      "name": "Untitled2.ipynb",
      "provenance": [],
      "authorship_tag": "ABX9TyNU5tbsEfQWoKMZVIk30GE6",
      "include_colab_link": true
    },
    "kernelspec": {
      "name": "python3",
      "display_name": "Python 3"
    },
    "language_info": {
      "name": "python"
    }
  },
  "cells": [
    {
      "cell_type": "markdown",
      "metadata": {
        "id": "view-in-github",
        "colab_type": "text"
      },
      "source": [
        "<a href=\"https://colab.research.google.com/github/jafarpenot/python_basics/blob/main/CiG.ipynb\" target=\"_parent\"><img src=\"https://colab.research.google.com/assets/colab-badge.svg\" alt=\"Open In Colab\"/></a>"
      ]
    },
    {
      "cell_type": "markdown",
      "source": [
        "## **COMPUTE MATRICES**"
      ],
      "metadata": {
        "id": "bfQ-QgGIAqTi"
      }
    },
    {
      "cell_type": "code",
      "execution_count": 1,
      "metadata": {
        "id": "cIdEWVQMwX6B"
      },
      "outputs": [],
      "source": [
        "# Python code​​​​​​‌​​‌​‌‌​​‌‌‌‌​​​​‌‌‌‌​‌‌‌ below\n",
        "# Use print(\"messages...\") to debug your solution.\n",
        "from collections import namedtuple\n",
        "\n",
        "Dimensions = namedtuple(\"Dimensions\", \"columns rows\")\n",
        "\n",
        "def compute_product(matrixA, matrixB):\n",
        "    matrixA_dim = Dimensions(len(matrixA[0]), len(matrixA))\n",
        "    matrixB_dim = Dimensions(len(matrixB[0]), len(matrixB))\n",
        "    \n",
        "    product = []\n",
        "    for row in range(matrixA_dim.rows):\n",
        "      product.append([0 for column in range(matrixB_dim.columns)])\n",
        "\n",
        "    for k in range(matrixB_dim.columns):\n",
        "      for i in range(matrixA_dim.rows):\n",
        "        for j in range(matrixA_dim.columns):\n",
        "            product[i][k] += matrixA[i][j] * matrixB[j][k]\n",
        "    return product"
      ]
    },
    {
      "cell_type": "code",
      "source": [
        "A = [[1,2,3,4],[1,1,2,2]]\n",
        "B = [[1,1,1],[1,2,2],[2,3,3],[3,3,3]]\n",
        "\n",
        "# RESULT\n",
        "# 21 26 26\n",
        "# 12 15 15\n",
        "\n",
        "print(compute_product(A, B))"
      ],
      "metadata": {
        "id": "cdP8gaZN14Ga",
        "colab": {
          "base_uri": "https://localhost:8080/"
        },
        "outputId": "54c8f836-b5b6-4977-b458-fc812ca70dad"
      },
      "execution_count": 2,
      "outputs": [
        {
          "output_type": "stream",
          "name": "stdout",
          "text": [
            "[[21, 26, 26], [12, 15, 15]]\n"
          ]
        }
      ]
    },
    {
      "cell_type": "markdown",
      "source": [
        "## **DUODIGIT**"
      ],
      "metadata": {
        "id": "lbhtL2VsIvNs"
      }
    },
    {
      "cell_type": "code",
      "source": [
        "import sys\n",
        "import math\n",
        "from contextlib import redirect_stdout\n",
        "\n",
        "\n",
        "def is_duo_digit(number):\n",
        "    result = 'n'\n",
        "    list_ints = [int(x) for x in str(number)]\n",
        "    diff_ints = []\n",
        "\n",
        "    for integer in list_ints:\n",
        "        if integer not in diff_ints:\n",
        "          diff_ints.append(integer)\n",
        "          \n",
        "    if len(diff_ints) < 3:\n",
        "      return 'y'\n",
        "    else:\n",
        "      return 'n'         "
      ],
      "metadata": {
        "id": "SS5m67xjI6nT"
      },
      "execution_count": 1,
      "outputs": []
    },
    {
      "cell_type": "code",
      "source": [
        "print('000', is_duo_digit(000))\n",
        "print('1000', is_duo_digit(1000))\n",
        "print('0', is_duo_digit(0))\n",
        "print('1010', is_duo_digit(1010))\n",
        "print('100230', is_duo_digit(10023))\n",
        "print('12', is_duo_digit(12))\n",
        "print('123', is_duo_digit(123))\n",
        "print('1200000003', is_duo_digit(120000003))"
      ],
      "metadata": {
        "id": "BojKD5HwAeiV"
      },
      "execution_count": null,
      "outputs": []
    }
  ]
}